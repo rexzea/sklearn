{
 "cells": [
  {
   "cell_type": "code",
   "execution_count": null,
   "id": "35323f61-325f-4fa9-bbef-4634362a530d",
   "metadata": {},
   "outputs": [],
   "source": [
    "# ipynb testing jupyter notebook"
   ]
  },
  {
   "cell_type": "code",
   "execution_count": null,
   "id": "f5146192-38fe-4bf7-8b02-7a950ebb870a",
   "metadata": {},
   "outputs": [],
   "source": []
  }
 ],
 "metadata": {
  "kernelspec": {
   "display_name": "Python (base)",
   "language": "python",
   "name": "base"
  },
  "language_info": {
   "codemirror_mode": {
    "name": "ipython",
    "version": 3
   },
   "file_extension": ".py",
   "mimetype": "text/x-python",
   "name": "python",
   "nbconvert_exporter": "python",
   "pygments_lexer": "ipython3",
   "version": "3.12.7"
  }
 },
 "nbformat": 4,
 "nbformat_minor": 5
}
